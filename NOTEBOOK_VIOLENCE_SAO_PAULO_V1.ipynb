{
 "cells": [
  {
   "cell_type": "markdown",
   "metadata": {},
   "source": [
    "# Data Analysis about crimes and violence at São Paulo"
   ]
  },
  {
   "cell_type": "markdown",
   "metadata": {},
   "source": [
    "#### 1) All datasets about crimes and violenca are from: https://www.ssp.sp.gov.br/estatistica/pesquisa.aspx\n",
    "\n",
    "#### Informations on datasets since jan-18 until sep-20"
   ]
  },
  {
   "cell_type": "markdown",
   "metadata": {},
   "source": [
    "#### 2) METADATA of datasets about crimes:\n",
    "\n",
    "#### Ocorrencia: kind of crime, violence or something like that;\n",
    "#### Xxx: number of crimes reported on month Xxx (e.g. Dez: number of crimes reported on month December)\n",
    "#### ANO: year when crime or violence happened\n",
    "#### BAIRRO: neighborhood or district of police department did the occurrence\n",
    "#### DP: number of the police department at São Paulo city"
   ]
  },
  {
   "cell_type": "markdown",
   "metadata": {},
   "source": [
    "#### 3) Dataset about lockdown from: https://www.saopaulo.sp.gov.br/planosp/simi/dados-abertos/"
   ]
  },
  {
   "cell_type": "markdown",
   "metadata": {},
   "source": [
    "#### 4) To create a geojson file about neighborhoods from São Paulo city you can use this web site: https://geojson.io/"
   ]
  },
  {
   "cell_type": "markdown",
   "metadata": {},
   "source": [
    "### Libraries"
   ]
  },
  {
   "cell_type": "code",
   "execution_count": null,
   "metadata": {},
   "outputs": [],
   "source": [
    "import pandas as pd\n",
    "import numpy as np\n",
    "\n",
    "import matplotlib.pyplot as plt\n",
    "import seaborn as sns\n",
    "import plotly.offline as py\n",
    "import plotly.graph_objects as go\n",
    "import plotly.express as px\n",
    "from plotly.subplots import make_subplots\n",
    "import plotly.io as pio\n",
    "pio.renderers.default = 'browser'\n",
    "\n",
    "import warnings\n",
    "warnings.filterwarnings(\"ignore\")\n",
    "import os\n",
    "from datetime import *\n",
    "\n",
    "import glob\n",
    "\n",
    "import json"
   ]
  },
  {
   "cell_type": "markdown",
   "metadata": {},
   "source": [
    "### Loading all datasets about crimes and violence:"
   ]
  },
  {
   "cell_type": "code",
   "execution_count": null,
   "metadata": {},
   "outputs": [],
   "source": [
    "# If you will test this notebook just change C:\\Users\\ricar\\Python_Algorithms\\VIOLENCIA_SAO_PAULO\\datasets\\ by the path where datasets are located: \n",
    "files = glob.glob(r'C:\\Users\\ricar\\Python_Algorithms\\VIOLENCIA_SAO_PAULO\\datasets\\Mensal-Delegacia-*.csv')\n",
    " \n",
    "array_df = []\n",
    "\n",
    "for x in files:\n",
    "    temp_df = pd.read_csv(x, \n",
    "                          encoding='iso-8859-1',\n",
    "                          sep=';')\n",
    "    array_df.append(temp_df)\n",
    "\n",
    "df = pd.concat(array_df, axis=0)\n",
    "#df\n",
    "\n",
    "df.info()"
   ]
  },
  {
   "cell_type": "markdown",
   "metadata": {},
   "source": [
    "Looking for missing values:"
   ]
  },
  {
   "cell_type": "code",
   "execution_count": null,
   "metadata": {},
   "outputs": [],
   "source": [
    "df.isnull().sum()"
   ]
  },
  {
   "cell_type": "markdown",
   "metadata": {},
   "source": [
    "There are missing values because of october, november and december from 2020. Let's replace these missing values by zero:"
   ]
  },
  {
   "cell_type": "code",
   "execution_count": null,
   "metadata": {},
   "outputs": [],
   "source": [
    "df['Out'] = df['Out'].fillna(0)\n",
    "df['Nov'] = df['Out'].fillna(0)\n",
    "df['Dez'] = df['Out'].fillna(0)\n",
    "\n",
    "df.isnull().sum()"
   ]
  },
  {
   "cell_type": "markdown",
   "metadata": {},
   "source": [
    "Now, there aren't any missing values on dataset."
   ]
  },
  {
   "cell_type": "code",
   "execution_count": null,
   "metadata": {},
   "outputs": [],
   "source": [
    "# Transform all columns of months to data type int64:\n",
    "\n",
    "def remove_item(my_list,*args):\n",
    "    delete = list(args)\n",
    "    for item in delete:\n",
    "        while item in my_list:\n",
    "            my_list.remove(item)\n",
    "    return my_list\n",
    "\n",
    "\n",
    "month_list = list(df.columns)\n",
    "remove_item(month_list,'Ocorrencia', 'ANO', 'DP', 'BAIRRO')\n",
    "\n",
    "for i in month_list:\n",
    "    df[i] = df[i].astype('int64')"
   ]
  },
  {
   "cell_type": "markdown",
   "metadata": {},
   "source": [
    "### Informations about lockdown:"
   ]
  },
  {
   "cell_type": "code",
   "execution_count": null,
   "metadata": {},
   "outputs": [],
   "source": [
    "# loading dataset about lockdown informations:\n",
    "lockdown = pd.read_csv(r'C:\\Users\\ricar\\Python_Algorithms\\VIOLENCIA_SAO_PAULO\\datasets\\20201105_isolamento.csv', encoding='iso-8859-1',sep=';')\n",
    "\n",
    "\n",
    "# Looking for Município == SÃO PAULO:\n",
    "lockdown = lockdown[lockdown['Município1'] == 'SÃO PAULO']\n",
    "\n",
    "# Creating features MM and PERC_LOCKDOWN:\n",
    "lockdown[['DS', 'DDMM']] = lockdown['Data'].str.split(',', expand=True)\n",
    "lockdown[['DD', 'MM']] = lockdown['DDMM'].str.split('/', expand=True)\n",
    "lockdown['MM'] = lockdown['MM'].astype('int64')\n",
    "lockdown = lockdown[['MM', 'Média de Índice De Isolamento']]\n",
    "lockdown['PERC_LOCKDOWN'] = lockdown['Média de Índice De Isolamento'].str.replace('%','').astype('int64')/100\n",
    "lockdown['ANO'] = 2020\n",
    "\n",
    "\n",
    "# Final dataset about lockdown:\n",
    "lockdown = lockdown.groupby(['MM', 'ANO']).agg({'PERC_LOCKDOWN': np.average}).sort_values(by=['MM']).reset_index()\n",
    "lockdown.rename(columns=({'PERC_LOCKDOWN': 'PERC_LOCKDOWN_AVG'}), inplace = True)\n",
    "lockdown['PERC_LOCKDOWN_AVG'] = round(lockdown['PERC_LOCKDOWN_AVG'], 2)\n",
    "#lockdown"
   ]
  },
  {
   "cell_type": "markdown",
   "metadata": {},
   "source": [
    "# What kind of occurrences would you like to check?"
   ]
  },
  {
   "cell_type": "code",
   "execution_count": null,
   "metadata": {},
   "outputs": [],
   "source": [
    "t = list(pd.unique(df['Ocorrencia']))\n",
    "\n",
    "occurrences = {}\n",
    "\n",
    "cont = 1\n",
    "for occur in t:\n",
    "    occurrences[cont] = occur\n",
    "    cont += 1\n",
    "\n",
    "occurrences"
   ]
  },
  {
   "cell_type": "markdown",
   "metadata": {},
   "source": [
    "# Make your choice based on values above:"
   ]
  },
  {
   "cell_type": "code",
   "execution_count": null,
   "metadata": {},
   "outputs": [],
   "source": [
    "num_occur = input('Choose some number presented above: ')\n",
    "\n",
    "if int(num_occur) in range(len(t)+1):\n",
    "    name_occur = occurrences.get(int(num_occur))\n",
    "    print(\"\\nLet's start some analysis about\", name_occur)\n",
    "    \n",
    "else:\n",
    "    print('\\nNumber ' + str(num_occur) + ' is not valid! Try again!')"
   ]
  },
  {
   "cell_type": "code",
   "execution_count": null,
   "metadata": {},
   "outputs": [],
   "source": [
    "#Now, let's take only the occurrence you made your choice:\n",
    "\n",
    "df1 = df[df['Ocorrencia'].isin([name_occur])]\n",
    "df1.drop(['Ocorrencia'],axis=1, inplace=True)\n",
    "df1 = df1[['BAIRRO', 'DP', 'ANO', 'Jan', 'Fev', 'Mar', 'Abr', 'Mai', 'Jun', 'Jul', 'Ago', 'Set', 'Out', 'Nov', 'Dez']]\n",
    "#df1\n",
    "\n",
    "\n",
    "\n",
    "#Applying melt to transform the dataset:\n",
    "\n",
    "df2 = pd.melt(df1.reset_index(), \n",
    "               id_vars=['BAIRRO', 'DP', 'ANO'], \n",
    "               var_name='MES', \n",
    "               value_name='QTDE').sort_values(['BAIRRO', 'DP', 'ANO'], ascending=False)\n",
    "#df2\n",
    "\n",
    "\n",
    "\n",
    "#Now, dropping rows where MES contains string 'index' and creating a new column called MM just to help us to order the dataset:\n",
    "\n",
    "df2 = df2[df2.MES.str.contains(\"index\") == False].reset_index()\n",
    "df2.drop('index', axis=1, inplace=True)\n",
    "df2['MM'] = df2['MES'].map({'Jan': 1, 'Fev': 2, 'Mar': 3, 'Abr': 4, 'Mai': 5, 'Jun': 6, 'Jul': 7, 'Ago': 8, 'Set': 9, 'Out': 10, 'Nov': 11, 'Dez': 12})\n",
    "#df2"
   ]
  },
  {
   "cell_type": "markdown",
   "metadata": {},
   "source": [
    "### Creating bar charts about total amount of crime or violence you had choose:"
   ]
  },
  {
   "cell_type": "code",
   "execution_count": null,
   "metadata": {},
   "outputs": [],
   "source": [
    "# ask about period:\n",
    "mes = input('\\n Insert a number from 1 to 12: (P.S.: 1 refers to january and 12 refers to december): ')\n",
    "\n",
    "if int(mes) not in list(np.unique(df2['MM'])):\n",
    "    \n",
    "    print('\\n Number ' + str(mes) + ' is not valid! Try again!')\n",
    "\n",
    "else: \n",
    "# creating a dataset with aggregated informations:\n",
    "    df3 = df2.groupby(['ANO', 'MES', 'MM']).agg({'QTDE': np.sum}).sort_values(by=['ANO', 'MM']).reset_index()\n",
    "    df3 = pd.merge(df3, lockdown, on=['MM', 'ANO'], how='left').reset_index().drop(['index'],axis=1)\n",
    "    df3['PERC_LOCKDOWN_AVG'] = df3['PERC_LOCKDOWN_AVG'].fillna(0)\n",
    "    df3 = df3[df3['MM'] <= int(mes)]\n",
    "\n",
    "# Creating series:\n",
    "    y_2018  = df3[df3['ANO']==2018]['QTDE']\n",
    "    x_2018  = df3[df3['ANO']==2018]['MES']\n",
    "\n",
    "    y_2019  = df3[df3['ANO']==2019]['QTDE']\n",
    "    x_2019  = df3[df3['ANO']==2019]['MES']\n",
    "\n",
    "    y_2020  = df3[df3['ANO']==2020]['QTDE']\n",
    "    x_2020  = df3[df3['ANO']==2020]['MES']\n",
    "    \n",
    "    mpl_y_2020 = df3[df3['ANO']==2020]['PERC_LOCKDOWN_AVG']\n",
    "    mpl_x_2020 = df3[df3['ANO']==2020]['MES']\n",
    "\n",
    "# Setting up the kind of chart and setting up series properties:\n",
    "    year_2018 = go.Bar(x = x_2018,\n",
    "                       y = y_2018,\n",
    "                       name = '2018',\n",
    "                       marker_color = '#EDC824',\n",
    "                       opacity = .7)\n",
    "\n",
    "\n",
    "    year_2019 = go.Bar(x = x_2019,\n",
    "                       y = y_2019,\n",
    "                       name = '2019',\n",
    "                       marker_color = '#08AA09',\n",
    "                       opacity = .5)\n",
    "\n",
    "\n",
    "    year_2020 = go.Bar(x = x_2020,\n",
    "                       y = y_2020,\n",
    "                       name = '2020',\n",
    "                       marker_color = '#12B6A1',\n",
    "                       opacity = .5)\n",
    "    \n",
    "    mpl_2020 = go.Scatter(x = mpl_x_2020,\n",
    "                          y = mpl_y_2020,\n",
    "                          yaxis='y2', \n",
    "                          marker_color = '#141461',\n",
    "                          name = 'Lockdown Average (%)')\n",
    "    \n",
    "    y2 = go.layout.YAxis(overlaying='y', side='right', title = 'Lockdown Average (%)')\n",
    "\n",
    "# Creating a list to storage all settings of chart:\n",
    "    set_list_year = [year_2018, year_2019, year_2020, mpl_2020]\n",
    "\n",
    "# Creating Layout:\n",
    "    layout_year = go.Layout(title='Amount of '+ str(name_occur) + ' by year and month at São Paulo city',\n",
    "                            yaxis={'title':'Amount of ' + str(name_occur)},\n",
    "                            yaxis2 = y2,\n",
    "                            xaxis={'title': 'Month'}\n",
    "                           )\n",
    "\n",
    "# Creating the picture will be showed:\n",
    "    \n",
    "    #fig = make_subplots(specs=[[{\"secondary_y\": True}]])\n",
    "    \n",
    "    fig = go.Figure(data=set_list_year, layout=layout_year)\n",
    "    fig.update_yaxes(showgrid=False)\n",
    "    \n",
    "# Plotting the chart:\n",
    "    \n",
    "    py.iplot(fig)"
   ]
  },
  {
   "cell_type": "markdown",
   "metadata": {},
   "source": [
    "Calculating Pearson's correlation between the average block percentage and the number of occurrences:"
   ]
  },
  {
   "cell_type": "code",
   "execution_count": null,
   "metadata": {},
   "outputs": [],
   "source": [
    "df3[['PERC_LOCKDOWN_AVG', 'QTDE']].corr()"
   ]
  },
  {
   "cell_type": "markdown",
   "metadata": {},
   "source": [
    "#### Remeber: \"correlation doesn't mean causality.\""
   ]
  },
  {
   "cell_type": "markdown",
   "metadata": {},
   "source": [
    " "
   ]
  },
  {
   "cell_type": "markdown",
   "metadata": {},
   "source": [
    "### Aggregating  informations for Choropleth Map:"
   ]
  },
  {
   "cell_type": "code",
   "execution_count": null,
   "metadata": {},
   "outputs": [],
   "source": [
    "mdm = df2.groupby(['BAIRRO', 'DP', 'ANO']).agg({'QTDE': np.median}).sort_values(by=['ANO', 'QTDE'], ascending=False).reset_index()\n",
    "mdm.rename(columns=({'QTDE': 'MEDIAN_MONTHLY'}), inplace=True)\n",
    "\n",
    "ta = df2.groupby(['BAIRRO','DP', 'ANO']).agg({'QTDE': np.sum}).sort_values(by=['ANO', 'QTDE'], ascending=False).reset_index()\n",
    "ta.rename(columns=({'QTDE': 'TOTAL'}), inplace=True)\n",
    "\n",
    "mdm_ta = pd.merge(mdm, ta, on=['BAIRRO', 'DP', 'ANO'], how='left').reset_index().drop(['index'],axis=1)\n",
    "#mdm_ta"
   ]
  },
  {
   "cell_type": "markdown",
   "metadata": {},
   "source": [
    "### Load geojson file with coordinates for latitude and longitude:"
   ]
  },
  {
   "cell_type": "code",
   "execution_count": null,
   "metadata": {},
   "outputs": [],
   "source": [
    "# loading geojson file:\n",
    "sp_neighborhoods = json.load(open('delegacias_sp.geojson', 'rb'))\n",
    "\n",
    "# It shows the keys in geojson file:\n",
    "sp_neighborhoods['features'][0].keys()"
   ]
  },
  {
   "cell_type": "markdown",
   "metadata": {},
   "source": [
    "If you chance the number between the square brackets It shows the contents about 'properties'  but it's just some kind of validation:"
   ]
  },
  {
   "cell_type": "code",
   "execution_count": null,
   "metadata": {},
   "outputs": [],
   "source": [
    "sp_neighborhoods['features'][0]['properties']"
   ]
  },
  {
   "cell_type": "markdown",
   "metadata": {},
   "source": [
    "Creating the dictionary neighborhood_id_map and it will be used on choropleth to look for latitude and longitude coordinates:"
   ]
  },
  {
   "cell_type": "code",
   "execution_count": null,
   "metadata": {},
   "outputs": [],
   "source": [
    "neighborhood_id_map = {}\n",
    "\n",
    "for feature in sp_neighborhoods['features']:\n",
    "    feature['id'] = feature['properties']['DP']\n",
    "    neighborhood_id_map[feature['properties']['BAIRRO']] = feature['id']\n",
    "    \n",
    "# print(neighborhood_id_map)"
   ]
  },
  {
   "cell_type": "markdown",
   "metadata": {},
   "source": [
    "# Choropleth Map of neighborhoods from São Paulo:"
   ]
  },
  {
   "cell_type": "code",
   "execution_count": null,
   "metadata": {},
   "outputs": [],
   "source": [
    "print('There are these years on dataset:', np.unique(mdm_ta['ANO']))"
   ]
  },
  {
   "cell_type": "markdown",
   "metadata": {},
   "source": [
    "### Choropleth Map about total cases of crime, violence or something like that:"
   ]
  },
  {
   "cell_type": "code",
   "execution_count": null,
   "metadata": {},
   "outputs": [],
   "source": [
    "# Message about input of year:\n",
    "year = input('\\n Insert a year from the list above: ')\n",
    "\n",
    "if int(year) in np.unique(mdm_ta['ANO']):\n",
    "    \n",
    "# filter from year and create the object with series:\n",
    "    mdm_ta_year = mdm_ta[mdm_ta['ANO'] == int(year)]\n",
    "\n",
    "\n",
    "# create the choropleth map:\n",
    "    fig = px.choropleth(mdm_ta_year, \n",
    "                        locations='DP', \n",
    "                        geojson=sp_neighborhoods, \n",
    "                        color='TOTAL',\n",
    "                        color_continuous_scale=\"bupu\",\n",
    "                        hover_name='BAIRRO',\n",
    "                        hover_data=['TOTAL'],\n",
    "                        )\n",
    "    fig.update_geos(fitbounds='locations', visible = False)\n",
    "    fig.update_layout(title_text='Amount of ' + str(name_occur) + ' by neighborhoods from São Paulo - ' + str(year), \n",
    "                      legend_title = 'TOTAL')\n",
    "\n",
    "    fig.show()\n",
    "    \n",
    "else:\n",
    "    \n",
    "    print(\"\\n Year isn't between 2018 and 2020. Please try again!\")"
   ]
  },
  {
   "cell_type": "code",
   "execution_count": null,
   "metadata": {},
   "outputs": [],
   "source": []
  }
 ],
 "metadata": {
  "kernelspec": {
   "display_name": "Python 3",
   "language": "python",
   "name": "python3"
  },
  "language_info": {
   "codemirror_mode": {
    "name": "ipython",
    "version": 3
   },
   "file_extension": ".py",
   "mimetype": "text/x-python",
   "name": "python",
   "nbconvert_exporter": "python",
   "pygments_lexer": "ipython3",
   "version": "3.7.6"
  }
 },
 "nbformat": 4,
 "nbformat_minor": 4
}
